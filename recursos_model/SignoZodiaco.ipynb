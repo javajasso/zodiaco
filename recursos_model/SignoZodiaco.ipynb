{
 "cells": [
  {
   "cell_type": "code",
   "execution_count": 24,
   "id": "234a269c-bb48-47c6-becb-9a0adb377d6f",
   "metadata": {},
   "outputs": [],
   "source": [
    "import pandas as pd\n",
    "import numpy as np\n",
    "\n",
    "data = pd.read_csv('signo.csv')"
   ]
  },
  {
   "cell_type": "code",
   "execution_count": 17,
   "id": "657e3d41-7f21-4405-96a2-201b0f8e4f78",
   "metadata": {},
   "outputs": [
    {
     "name": "stdout",
     "output_type": "stream",
     "text": [
      "     Marca temporal Proporciona tu fecha de nacimiento Signo Zodiacal  \\\n",
      "0  27/07/2024 14:38                         18/11/2002      Escorpion   \n",
      "1  27/07/2024 14:42                         12/03/2003         piscis   \n",
      "2  27/07/2024 14:56                         21/09/1999          libra   \n",
      "3  27/07/2024 15:09                         25/05/2002        geminis   \n",
      "4  27/07/2024 15:12                         01/11/2001      Escorpion   \n",
      "\n",
      "  ¿Te gusta comer en restaurantes?  ¿Te gusta salir de picnic (día de campo)?  \\\n",
      "0                         Frecuente                             Muy Frecuente   \n",
      "1                         Frecuente                             Muy Frecuente   \n",
      "2                    Poco Frecuente                                 Frecuente   \n",
      "3                    Poco Frecuente                            Poco Frecuente   \n",
      "4                         Frecuente                            Poco Frecuente   \n",
      "\n",
      "  ¿Te gustan los abrazos? ¿Te gusta dar regalos? ¿Te gusta recibir regalos?  \\\n",
      "0           Muy Frecuente          Muy Frecuente              Muy Frecuente   \n",
      "1               Frecuente              Frecuente              Muy Frecuente   \n",
      "2                    Nada          Muy Frecuente             Poco Frecuente   \n",
      "3          Poco Frecuente         Poco Frecuente             Poco Frecuente   \n",
      "4          Poco Frecuente          Muy Frecuente              Muy Frecuente   \n",
      "\n",
      "  ¿Haces actos de servicio por los demás? ¿Te gusta recibir cumplidos?  \\\n",
      "0                           Muy Frecuente                    Frecuente   \n",
      "1                               Frecuente                Muy Frecuente   \n",
      "2                          Poco Frecuente               Poco Frecuente   \n",
      "3                          Poco Frecuente               Poco Frecuente   \n",
      "4                          Poco Frecuente                    Frecuente   \n",
      "\n",
      "  ¿Te gustaría vivir en una cabaña en medio de un bosque lluvioso?  \\\n",
      "0                                      Muy Frecuente                 \n",
      "1                                     Poco Frecuente                 \n",
      "2                                      Muy Frecuente                 \n",
      "3                                          Frecuente                 \n",
      "4                                     Poco Frecuente                 \n",
      "\n",
      "  ¿Te gustaría vivir en una cabaña en medio de la playa?  \\\n",
      "0                                               Nada       \n",
      "1                                      Muy Frecuente       \n",
      "2                                               Nada       \n",
      "3                                          Frecuente       \n",
      "4                                               Nada       \n",
      "\n",
      "  ¿Te gustaría vivir en una cabaña en medio del bosque?  \\\n",
      "0                                     Poco Frecuente      \n",
      "1                                          Frecuente      \n",
      "2                                      Muy Frecuente      \n",
      "3                                          Frecuente      \n",
      "4                                     Poco Frecuente      \n",
      "\n",
      "  ¿Te gustaría vivir en un oasis en medio del desierto?  \n",
      "0                                               Nada     \n",
      "1                                               Nada     \n",
      "2                                               Nada     \n",
      "3                                     Poco Frecuente     \n",
      "4                                     Poco Frecuente     \n"
     ]
    }
   ],
   "source": [
    "print(data.head())\n"
   ]
  },
  {
   "cell_type": "code",
   "execution_count": 18,
   "id": "c395f929-4cff-444d-93c7-2954837ee259",
   "metadata": {},
   "outputs": [],
   "source": [
    "primera_columna = data['Proporciona tu fecha de nacimiento']\n",
    "#primera_columna = data.iloc[:, 1]\n"
   ]
  },
  {
   "cell_type": "code",
   "execution_count": 19,
   "id": "f13e5f9d-b7bc-4d09-831e-a7285560ac47",
   "metadata": {},
   "outputs": [],
   "source": [
    "columna_signos = data['Signo Zodiacal']"
   ]
  },
  {
   "cell_type": "code",
   "execution_count": 20,
   "id": "d063b3c0-79cd-43d6-a598-924c39b9cdd9",
   "metadata": {},
   "outputs": [
    {
     "name": "stdout",
     "output_type": "stream",
     "text": [
      "0   2002-11-18\n",
      "1   2003-03-12\n",
      "2   1999-09-21\n",
      "3   2002-05-25\n",
      "4   2001-11-01\n",
      "Name: Proporciona tu fecha de nacimiento, dtype: datetime64[ns]\n",
      "0    11.0\n",
      "1     3.0\n",
      "2     9.0\n",
      "3     5.0\n",
      "4    11.0\n",
      "Name: Proporciona tu fecha de nacimiento, dtype: float64\n"
     ]
    },
    {
     "name": "stderr",
     "output_type": "stream",
     "text": [
      "C:\\Users\\floi_\\AppData\\Local\\Temp\\ipykernel_20524\\1676331749.py:1: UserWarning: Parsing dates in %d/%m/%Y format when dayfirst=False (the default) was specified. Pass `dayfirst=True` or specify a format to silence this warning.\n",
      "  primera_columna = pd.to_datetime(primera_columna, errors='coerce')\n"
     ]
    }
   ],
   "source": [
    "primera_columna = pd.to_datetime(primera_columna, errors='coerce')\n",
    "print(primera_columna.head())\n",
    "\n",
    "# Extraer el mes\n",
    "meses = primera_columna.dt.month\n",
    "print(meses.head())\n"
   ]
  },
  {
   "cell_type": "code",
   "execution_count": 21,
   "id": "37b33a0b-f231-4c69-9d1d-50b65b686e8c",
   "metadata": {},
   "outputs": [
    {
     "name": "stdout",
     "output_type": "stream",
     "text": [
      "0    18.0\n",
      "1    12.0\n",
      "2    21.0\n",
      "3    25.0\n",
      "4     1.0\n",
      "Name: Proporciona tu fecha de nacimiento, dtype: float64\n"
     ]
    }
   ],
   "source": [
    "# Extraer el día del mes\n",
    "dias = primera_columna.dt.day\n",
    "print(dias.head())\n"
   ]
  },
  {
   "cell_type": "code",
   "execution_count": 22,
   "id": "dd7d632d-db3e-469e-82f2-fa6f48b93b97",
   "metadata": {},
   "outputs": [
    {
     "name": "stdout",
     "output_type": "stream",
     "text": [
      "0    Escorpion\n",
      "1       piscis\n",
      "2        libra\n",
      "3      geminis\n",
      "4    Escorpion\n",
      "Name: Signo Zodiacal, dtype: object\n"
     ]
    }
   ],
   "source": [
    "print(columna_signos.head())"
   ]
  },
  {
   "cell_type": "code",
   "execution_count": 23,
   "id": "9e1db505-ce35-4afc-9a27-76cca4e407f1",
   "metadata": {},
   "outputs": [
    {
     "name": "stdout",
     "output_type": "stream",
     "text": [
      "meses  (100,)\n",
      "dias  (100,)\n"
     ]
    }
   ],
   "source": [
    "array_dias = dias.to_numpy()\n",
    "array_meses = meses.to_numpy()\n",
    "array_signos = columna_signos\n",
    "\n",
    "print(\"meses \",array_meses.shape)\n",
    "print(\"dias \",array_dias.shape)"
   ]
  },
  {
   "cell_type": "code",
   "execution_count": 25,
   "id": "2e687dd4-4e6c-4646-afbc-377f3e691682",
   "metadata": {},
   "outputs": [
    {
     "name": "stdout",
     "output_type": "stream",
     "text": [
      "Dimensiones de X_train: (100, 2)\n",
      "Dimensiones de y_train: (100,)\n"
     ]
    }
   ],
   "source": [
    "X_train = np.column_stack((array_dias, array_meses))  # Características (por ejemplo, fechas de nacimiento)\n",
    "y_train = label_encoder.fit_transform(array_signos)\n",
    "\n",
    "print(\"Dimensiones de X_train:\", X_train.shape)\n",
    "print(\"Dimensiones de y_train:\", y_train.shape)"
   ]
  },
  {
   "cell_type": "code",
   "execution_count": 26,
   "id": "5ac1bb13-1f40-4008-9cb1-f08f3446a3ea",
   "metadata": {},
   "outputs": [
    {
     "name": "stdout",
     "output_type": "stream",
     "text": [
      "Epoch 1/10\n"
     ]
    },
    {
     "name": "stderr",
     "output_type": "stream",
     "text": [
      "C:\\Users\\floi_\\AppData\\Local\\Programs\\Python\\Python312\\Lib\\site-packages\\keras\\src\\layers\\core\\dense.py:87: UserWarning: Do not pass an `input_shape`/`input_dim` argument to a layer. When using Sequential models, prefer using an `Input(shape)` object as the first layer in the model instead.\n",
      "  super().__init__(activity_regularizer=activity_regularizer, **kwargs)\n"
     ]
    },
    {
     "name": "stdout",
     "output_type": "stream",
     "text": [
      "\u001b[1m3/3\u001b[0m \u001b[32m━━━━━━━━━━━━━━━━━━━━\u001b[0m\u001b[37m\u001b[0m \u001b[1m1s\u001b[0m 107ms/step - accuracy: 0.1789 - loss: 2.5472 - val_accuracy: 0.1500 - val_loss: 2.5647\n",
      "Epoch 2/10\n",
      "\u001b[1m3/3\u001b[0m \u001b[32m━━━━━━━━━━━━━━━━━━━━\u001b[0m\u001b[37m\u001b[0m \u001b[1m0s\u001b[0m 20ms/step - accuracy: 0.3000 - loss: 2.5607 - val_accuracy: 0.1500 - val_loss: 2.5643\n",
      "Epoch 3/10\n",
      "\u001b[1m3/3\u001b[0m \u001b[32m━━━━━━━━━━━━━━━━━━━━\u001b[0m\u001b[37m\u001b[0m \u001b[1m0s\u001b[0m 19ms/step - accuracy: 0.3117 - loss: 2.5565 - val_accuracy: 0.1500 - val_loss: 2.5639\n",
      "Epoch 4/10\n",
      "\u001b[1m3/3\u001b[0m \u001b[32m━━━━━━━━━━━━━━━━━━━━\u001b[0m\u001b[37m\u001b[0m \u001b[1m0s\u001b[0m 19ms/step - accuracy: 0.2727 - loss: 2.5532 - val_accuracy: 0.1500 - val_loss: 2.5637\n",
      "Epoch 5/10\n",
      "\u001b[1m3/3\u001b[0m \u001b[32m━━━━━━━━━━━━━━━━━━━━\u001b[0m\u001b[37m\u001b[0m \u001b[1m0s\u001b[0m 20ms/step - accuracy: 0.3078 - loss: 2.5488 - val_accuracy: 0.1500 - val_loss: 2.5635\n",
      "Epoch 6/10\n",
      "\u001b[1m3/3\u001b[0m \u001b[32m━━━━━━━━━━━━━━━━━━━━\u001b[0m\u001b[37m\u001b[0m \u001b[1m0s\u001b[0m 20ms/step - accuracy: 0.2805 - loss: 2.5452 - val_accuracy: 0.1500 - val_loss: 2.5633\n",
      "Epoch 7/10\n",
      "\u001b[1m3/3\u001b[0m \u001b[32m━━━━━━━━━━━━━━━━━━━━\u001b[0m\u001b[37m\u001b[0m \u001b[1m0s\u001b[0m 20ms/step - accuracy: 0.2961 - loss: 2.5421 - val_accuracy: 0.1500 - val_loss: 2.5630\n",
      "Epoch 8/10\n",
      "\u001b[1m3/3\u001b[0m \u001b[32m━━━━━━━━━━━━━━━━━━━━\u001b[0m\u001b[37m\u001b[0m \u001b[1m0s\u001b[0m 18ms/step - accuracy: 0.3039 - loss: 2.5357 - val_accuracy: 0.1500 - val_loss: 2.5627\n",
      "Epoch 9/10\n",
      "\u001b[1m3/3\u001b[0m \u001b[32m━━━━━━━━━━━━━━━━━━━━\u001b[0m\u001b[37m\u001b[0m \u001b[1m0s\u001b[0m 19ms/step - accuracy: 0.2844 - loss: 2.5346 - val_accuracy: 0.1500 - val_loss: 2.5624\n",
      "Epoch 10/10\n",
      "\u001b[1m3/3\u001b[0m \u001b[32m━━━━━━━━━━━━━━━━━━━━\u001b[0m\u001b[37m\u001b[0m \u001b[1m0s\u001b[0m 17ms/step - accuracy: 0.3156 - loss: 2.5280 - val_accuracy: 0.1500 - val_loss: 2.5622\n"
     ]
    },
    {
     "data": {
      "image/png": "[encoded data removed]",
      "text/plain": [
       "<Figure size 640x480 with 1 Axes>"
      ]
     },
     "metadata": {},
     "output_type": "display_data"
    },
    {
     "data": {
      "image/png": "[encoded data removed]",
      "text/plain": [
       "<Figure size 640x480 with 1 Axes>"
      ]
     },
     "metadata": {},
     "output_type": "display_data"
    }
   ],
   "source": [
    "import tensorflow as tf\n",
    "import numpy as np\n",
    "from sklearn.preprocessing import LabelEncoder, StandardScaler\n",
    "import matplotlib.pyplot as plt\n",
    "from tensorflow.keras.optimizers import Adam\n",
    "\n",
    "if len(array_dias) != len(array_meses) or len(array_dias) != len(array_signos):\n",
    "    raise ValueError(\"array_dias, array_meses y array_signos deben tener el mismo número de elementos.\")\n",
    "\n",
    "# Datos para entrenamiento\n",
    "X_train = np.column_stack((array_dias, array_meses))  # Características (por ejemplo, fechas de nacimiento)\n",
    "\n",
    "# Normalizar las características\n",
    "scaler = StandardScaler()\n",
    "X_train = scaler.fit_transform(X_train)\n",
    "\n",
    "label_encoder = LabelEncoder()\n",
    "y_train = label_encoder.fit_transform(array_signos)  # Etiquetas (0 = Aries, 1 = Tauro, etc.)\n",
    "\n",
    "# Verificar las dimensiones de X_train y y_train\n",
    "if X_train.shape[0] != y_train.shape[0]:\n",
    "    raise ValueError(\"El número de muestras en X_train y y_train debe ser el mismo.\")\n",
    "\n",
    "# Verificar el número de clases\n",
    "num_clases = len(np.unique(y_train))\n",
    "\n",
    "# Crear el modelo\n",
    "model = tf.keras.Sequential([\n",
    "    tf.keras.layers.Dense(64, activation='relu', input_shape=(X_train.shape[1],)),\n",
    "    tf.keras.layers.Dense(32, activation='relu'),\n",
    "    tf.keras.layers.Dense(num_clases, activation='softmax')  # Número de clases\n",
    "])\n",
    "\n",
    "#Compilación del modelo \n",
    "# Compilar el modelo\n",
    "optimizer = Adam(learning_rate=0.001)\n",
    "model.compile(optimizer=optimizer,\n",
    "              loss='sparse_categorical_crossentropy',\n",
    "              metrics=['accuracy'])\n",
    "\n",
    "# Entrenar el modelo con validación\n",
    "try:\n",
    "    history = model.fit(X_train, y_train, epochs=10, validation_split=0.2)\n",
    "except Exception as e:\n",
    "    print(\"Error durante el entrenamiento:\", e)\n",
    "\n",
    "# Graficar la precisión y la pérdida\n",
    "plt.plot(history.history['accuracy'])\n",
    "plt.plot(history.history['val_accuracy'])\n",
    "plt.title('Precisión del modelo')\n",
    "plt.xlabel('Época')\n",
    "plt.ylabel('Precisión')\n",
    "plt.legend(['Entrenamiento', 'Validación'])\n",
    "plt.show()\n",
    "\n",
    "plt.plot(history.history['loss'])\n",
    "plt.plot(history.history['val_loss'])\n",
    "plt.title('Pérdida del modelo')\n",
    "plt.xlabel('Época')\n",
    "plt.ylabel('Pérdida')\n",
    "plt.legend(['Entrenamiento', 'Validación'])\n",
    "plt.show()\n",
    "\n",
    "# Guardar el modelo\n",
    "modelSigno='C:/Users/floi_/Desktop/ING UTNG/GIDS4093-E/EXTRACCION BASE DATOS/UNIDAD 4/zodiaco/signo_model.keras'\n",
    "model.save(modelSigno)"
   ]
  },
  {
   "cell_type": "code",
   "execution_count": 27,
   "id": "ad377205-0791-4297-b15c-b8b295b9469f",
   "metadata": {},
   "outputs": [],
   "source": [
    "# Codigo para cargar el modelo en otro sitio\n",
    "model = tf.keras.models.load_model('C:/Users/floi_/Desktop/ING UTNG/GIDS4093-E/EXTRACCION BASE DATOS/UNIDAD 4/zodiaco/signo_model.keras')\n"
   ]
  },
  {
   "cell_type": "code",
   "execution_count": 28,
   "id": "1a01f55b-4332-41e4-9272-b87e7457f0f5",
   "metadata": {},
   "outputs": [
    {
     "name": "stdout",
     "output_type": "stream",
     "text": [
      "\u001b[1m1/1\u001b[0m \u001b[32m━━━━━━━━━━━━━━━━━━━━\u001b[0m\u001b[37m\u001b[0m \u001b[1m0s\u001b[0m 55ms/step\n",
      "Fecha: 15-7, Signo Predicho: leo\n",
      "Fecha: 23-8, Signo Predicho: leo\n",
      "Fecha: 30-12, Signo Predicho: leo\n"
     ]
    }
   ],
   "source": [
    "# Cargar el modelo\n",
    "loaded_model = tf.keras.models.load_model(modelSigno)\n",
    "\n",
    "# Nuevos datos de prueba\n",
    "nuevos_dias = np.array([15, 23, 30])\n",
    "nuevos_meses = np.array([7, 8, 12])\n",
    "\n",
    "# Preparar los datos nuevos\n",
    "X_nuevos = np.column_stack((nuevos_dias, nuevos_meses))\n",
    "\n",
    "# Normalizar los datos nuevos usando el mismo scaler\n",
    "X_nuevos = scaler.transform(X_nuevos)\n",
    "\n",
    "# Realizar predicciones\n",
    "predicciones = loaded_model.predict(X_nuevos)\n",
    "\n",
    "# Convertir predicciones a etiquetas\n",
    "predicciones_clases = np.argmax(predicciones, axis=1)\n",
    "predicciones_etiquetas = label_encoder.inverse_transform(predicciones_clases)\n",
    "\n",
    "# Imprimir resultados\n",
    "for i, (dia, mes) in enumerate(zip(nuevos_dias, nuevos_meses)):\n",
    "    print(f\"Fecha: {dia}-{mes}, Signo Predicho: {predicciones_etiquetas[i]}\")"
   ]
  },
  {
   "cell_type": "code",
   "execution_count": 29,
   "id": "d5a016f7-e773-4acd-8317-32a13765935c",
   "metadata": {},
   "outputs": [],
   "source": [
    "##EXPORTAR GRAFICOS A PDF"
   ]
  },
  {
   "cell_type": "code",
   "execution_count": 37,
   "id": "912246a0-5f8f-4804-b885-d442f0d44c62",
   "metadata": {},
   "outputs": [
    {
     "name": "stdout",
     "output_type": "stream",
     "text": [
      "Collecting pdf_utils\n",
      "  Using cached pdf-utils-0.1.1.tar.gz (16 kB)\n",
      "  Preparing metadata (setup.py): started\n",
      "  Preparing metadata (setup.py): finished with status 'done'\n",
      "Collecting lxml~=4.5.1 (from pdf_utils)\n",
      "  Using cached lxml-4.5.2.tar.gz (4.5 MB)\n",
      "  Preparing metadata (setup.py): started\n",
      "  Preparing metadata (setup.py): finished with status 'done'\n",
      "Collecting numpy~=1.19.0 (from pdf_utils)\n",
      "  Using cached numpy-1.19.5.zip (7.3 MB)\n",
      "  Installing build dependencies: started\n",
      "  Installing build dependencies: finished with status 'done'\n",
      "  Getting requirements to build wheel: started\n",
      "  Getting requirements to build wheel: finished with status 'done'\n",
      "Note: you may need to restart the kernel to use updated packages.\n"
     ]
    },
    {
     "name": "stderr",
     "output_type": "stream",
     "text": [
      "ERROR: Exception:\n",
      "Traceback (most recent call last):\n",
      "  File \"C:\\Users\\floi_\\AppData\\Local\\Programs\\Python\\Python312\\Lib\\site-packages\\pip\\_internal\\cli\\base_command.py\", line 105, in _run_wrapper\n",
      "    status = _inner_run()\n",
      "             ^^^^^^^^^^^^\n",
      "  File \"C:\\Users\\floi_\\AppData\\Local\\Programs\\Python\\Python312\\Lib\\site-packages\\pip\\_internal\\cli\\base_command.py\", line 96, in _inner_run\n",
      "    return self.run(options, args)\n",
      "           ^^^^^^^^^^^^^^^^^^^^^^^\n",
      "  File \"C:\\Users\\floi_\\AppData\\Local\\Programs\\Python\\Python312\\Lib\\site-packages\\pip\\_internal\\cli\\req_command.py\", line 67, in wrapper\n",
      "    return func(self, options, args)\n",
      "           ^^^^^^^^^^^^^^^^^^^^^^^^^\n",
      "  File \"C:\\Users\\floi_\\AppData\\Local\\Programs\\Python\\Python312\\Lib\\site-packages\\pip\\_internal\\commands\\install.py\", line 379, in run\n",
      "    requirement_set = resolver.resolve(\n",
      "                      ^^^^^^^^^^^^^^^^^\n",
      "  File \"C:\\Users\\floi_\\AppData\\Local\\Programs\\Python\\Python312\\Lib\\site-packages\\pip\\_internal\\resolution\\resolvelib\\resolver.py\", line 95, in resolve\n",
      "    result = self._result = resolver.resolve(\n",
      "                            ^^^^^^^^^^^^^^^^^\n",
      "  File \"C:\\Users\\floi_\\AppData\\Local\\Programs\\Python\\Python312\\Lib\\site-packages\\pip\\_vendor\\resolvelib\\resolvers.py\", line 546, in resolve\n",
      "    state = resolution.resolve(requirements, max_rounds=max_rounds)\n",
      "            ^^^^^^^^^^^^^^^^^^^^^^^^^^^^^^^^^^^^^^^^^^^^^^^^^^^^^^^\n",
      "  File \"C:\\Users\\floi_\\AppData\\Local\\Programs\\Python\\Python312\\Lib\\site-packages\\pip\\_vendor\\resolvelib\\resolvers.py\", line 427, in resolve\n",
      "    failure_causes = self._attempt_to_pin_criterion(name)\n",
      "                     ^^^^^^^^^^^^^^^^^^^^^^^^^^^^^^^^^^^^\n",
      "  File \"C:\\Users\\floi_\\AppData\\Local\\Programs\\Python\\Python312\\Lib\\site-packages\\pip\\_vendor\\resolvelib\\resolvers.py\", line 239, in _attempt_to_pin_criterion\n",
      "    criteria = self._get_updated_criteria(candidate)\n",
      "               ^^^^^^^^^^^^^^^^^^^^^^^^^^^^^^^^^^^^^\n",
      "  File \"C:\\Users\\floi_\\AppData\\Local\\Programs\\Python\\Python312\\Lib\\site-packages\\pip\\_vendor\\resolvelib\\resolvers.py\", line 230, in _get_updated_criteria\n",
      "    self._add_to_criteria(criteria, requirement, parent=candidate)\n",
      "  File \"C:\\Users\\floi_\\AppData\\Local\\Programs\\Python\\Python312\\Lib\\site-packages\\pip\\_vendor\\resolvelib\\resolvers.py\", line 173, in _add_to_criteria\n",
      "    if not criterion.candidates:\n",
      "           ^^^^^^^^^^^^^^^^^^^^\n",
      "  File \"C:\\Users\\floi_\\AppData\\Local\\Programs\\Python\\Python312\\Lib\\site-packages\\pip\\_vendor\\resolvelib\\structs.py\", line 156, in __bool__\n",
      "    return bool(self._sequence)\n",
      "           ^^^^^^^^^^^^^^^^^^^^\n",
      "  File \"C:\\Users\\floi_\\AppData\\Local\\Programs\\Python\\Python312\\Lib\\site-packages\\pip\\_internal\\resolution\\resolvelib\\found_candidates.py\", line 174, in __bool__\n",
      "    return any(self)\n",
      "           ^^^^^^^^^\n",
      "  File \"C:\\Users\\floi_\\AppData\\Local\\Programs\\Python\\Python312\\Lib\\site-packages\\pip\\_internal\\resolution\\resolvelib\\found_candidates.py\", line 162, in <genexpr>\n",
      "    return (c for c in iterator if id(c) not in self._incompatible_ids)\n",
      "           ^^^^^^^^^^^^^^^^^^^^^^^^^^^^^^^^^^^^^^^^^^^^^^^^^^^^^^^^^^^^\n",
      "  File \"C:\\Users\\floi_\\AppData\\Local\\Programs\\Python\\Python312\\Lib\\site-packages\\pip\\_internal\\resolution\\resolvelib\\found_candidates.py\", line 53, in _iter_built\n",
      "    candidate = func()\n",
      "                ^^^^^^\n",
      "  File \"C:\\Users\\floi_\\AppData\\Local\\Programs\\Python\\Python312\\Lib\\site-packages\\pip\\_internal\\resolution\\resolvelib\\factory.py\", line 186, in _make_candidate_from_link\n",
      "    base: Optional[BaseCandidate] = self._make_base_candidate_from_link(\n",
      "                                    ^^^^^^^^^^^^^^^^^^^^^^^^^^^^^^^^^^^^\n",
      "  File \"C:\\Users\\floi_\\AppData\\Local\\Programs\\Python\\Python312\\Lib\\site-packages\\pip\\_internal\\resolution\\resolvelib\\factory.py\", line 232, in _make_base_candidate_from_link\n",
      "    self._link_candidate_cache[link] = LinkCandidate(\n",
      "                                       ^^^^^^^^^^^^^^\n",
      "  File \"C:\\Users\\floi_\\AppData\\Local\\Programs\\Python\\Python312\\Lib\\site-packages\\pip\\_internal\\resolution\\resolvelib\\candidates.py\", line 303, in __init__\n",
      "    super().__init__(\n",
      "  File \"C:\\Users\\floi_\\AppData\\Local\\Programs\\Python\\Python312\\Lib\\site-packages\\pip\\_internal\\resolution\\resolvelib\\candidates.py\", line 158, in __init__\n",
      "    self.dist = self._prepare()\n",
      "                ^^^^^^^^^^^^^^^\n",
      "  File \"C:\\Users\\floi_\\AppData\\Local\\Programs\\Python\\Python312\\Lib\\site-packages\\pip\\_internal\\resolution\\resolvelib\\candidates.py\", line 235, in _prepare\n",
      "    dist = self._prepare_distribution()\n",
      "           ^^^^^^^^^^^^^^^^^^^^^^^^^^^^\n",
      "  File \"C:\\Users\\floi_\\AppData\\Local\\Programs\\Python\\Python312\\Lib\\site-packages\\pip\\_internal\\resolution\\resolvelib\\candidates.py\", line 314, in _prepare_distribution\n",
      "    return preparer.prepare_linked_requirement(self._ireq, parallel_builds=True)\n",
      "           ^^^^^^^^^^^^^^^^^^^^^^^^^^^^^^^^^^^^^^^^^^^^^^^^^^^^^^^^^^^^^^^^^^^^^\n",
      "  File \"C:\\Users\\floi_\\AppData\\Local\\Programs\\Python\\Python312\\Lib\\site-packages\\pip\\_internal\\operations\\prepare.py\", line 527, in prepare_linked_requirement\n",
      "    return self._prepare_linked_requirement(req, parallel_builds)\n",
      "           ^^^^^^^^^^^^^^^^^^^^^^^^^^^^^^^^^^^^^^^^^^^^^^^^^^^^^^\n",
      "  File \"C:\\Users\\floi_\\AppData\\Local\\Programs\\Python\\Python312\\Lib\\site-packages\\pip\\_internal\\operations\\prepare.py\", line 642, in _prepare_linked_requirement\n",
      "    dist = _get_prepared_distribution(\n",
      "           ^^^^^^^^^^^^^^^^^^^^^^^^^^^\n",
      "  File \"C:\\Users\\floi_\\AppData\\Local\\Programs\\Python\\Python312\\Lib\\site-packages\\pip\\_internal\\operations\\prepare.py\", line 72, in _get_prepared_distribution\n",
      "    abstract_dist.prepare_distribution_metadata(\n",
      "  File \"C:\\Users\\floi_\\AppData\\Local\\Programs\\Python\\Python312\\Lib\\site-packages\\pip\\_internal\\distributions\\sdist.py\", line 56, in prepare_distribution_metadata\n",
      "    self._install_build_reqs(finder)\n",
      "  File \"C:\\Users\\floi_\\AppData\\Local\\Programs\\Python\\Python312\\Lib\\site-packages\\pip\\_internal\\distributions\\sdist.py\", line 126, in _install_build_reqs\n",
      "    build_reqs = self._get_build_requires_wheel()\n",
      "                 ^^^^^^^^^^^^^^^^^^^^^^^^^^^^^^^^\n",
      "  File \"C:\\Users\\floi_\\AppData\\Local\\Programs\\Python\\Python312\\Lib\\site-packages\\pip\\_internal\\distributions\\sdist.py\", line 103, in _get_build_requires_wheel\n",
      "    return backend.get_requires_for_build_wheel()\n",
      "           ^^^^^^^^^^^^^^^^^^^^^^^^^^^^^^^^^^^^^^\n",
      "  File \"C:\\Users\\floi_\\AppData\\Local\\Programs\\Python\\Python312\\Lib\\site-packages\\pip\\_internal\\utils\\misc.py\", line 706, in get_requires_for_build_wheel\n",
      "    return super().get_requires_for_build_wheel(config_settings=cs)\n",
      "           ^^^^^^^^^^^^^^^^^^^^^^^^^^^^^^^^^^^^^^^^^^^^^^^^^^^^^^^^\n",
      "  File \"C:\\Users\\floi_\\AppData\\Local\\Programs\\Python\\Python312\\Lib\\site-packages\\pip\\_vendor\\pyproject_hooks\\_impl.py\", line 166, in get_requires_for_build_wheel\n",
      "    return self._call_hook('get_requires_for_build_wheel', {\n",
      "           ^^^^^^^^^^^^^^^^^^^^^^^^^^^^^^^^^^^^^^^^^^^^^^^^^\n",
      "  File \"C:\\Users\\floi_\\AppData\\Local\\Programs\\Python\\Python312\\Lib\\site-packages\\pip\\_vendor\\pyproject_hooks\\_impl.py\", line 321, in _call_hook\n",
      "    raise BackendUnavailable(data.get('traceback', ''))\n",
      "pip._vendor.pyproject_hooks._impl.BackendUnavailable: Traceback (most recent call last):\n",
      "  File \"C:\\Users\\floi_\\AppData\\Local\\Programs\\Python\\Python312\\Lib\\site-packages\\pip\\_vendor\\pyproject_hooks\\_in_process\\_in_process.py\", line 77, in _build_backend\n",
      "    obj = import_module(mod_path)\n",
      "          ^^^^^^^^^^^^^^^^^^^^^^^\n",
      "  File \"C:\\Users\\floi_\\AppData\\Local\\Programs\\Python\\Python312\\Lib\\importlib\\__init__.py\", line 90, in import_module\n",
      "    return _bootstrap._gcd_import(name[level:], package, level)\n",
      "           ^^^^^^^^^^^^^^^^^^^^^^^^^^^^^^^^^^^^^^^^^^^^^^^^^^^^\n",
      "  File \"<frozen importlib._bootstrap>\", line 1387, in _gcd_import\n",
      "  File \"<frozen importlib._bootstrap>\", line 1360, in _find_and_load\n",
      "  File \"<frozen importlib._bootstrap>\", line 1310, in _find_and_load_unlocked\n",
      "  File \"<frozen importlib._bootstrap>\", line 488, in _call_with_frames_removed\n",
      "  File \"<frozen importlib._bootstrap>\", line 1387, in _gcd_import\n",
      "  File \"<frozen importlib._bootstrap>\", line 1360, in _find_and_load\n",
      "  File \"<frozen importlib._bootstrap>\", line 1331, in _find_and_load_unlocked\n",
      "  File \"<frozen importlib._bootstrap>\", line 935, in _load_unlocked\n",
      "  File \"<frozen importlib._bootstrap_external>\", line 995, in exec_module\n",
      "  File \"<frozen importlib._bootstrap>\", line 488, in _call_with_frames_removed\n",
      "  File \"C:\\Users\\floi_\\AppData\\Local\\Temp\\pip-build-env-1q9amhj9\\overlay\\Lib\\site-packages\\setuptools\\__init__.py\", line 18, in <module>\n",
      "    from setuptools.extern.six import PY3, string_types\n",
      "ModuleNotFoundError: No module named 'setuptools.extern.six'\n",
      "\n"
     ]
    }
   ],
   "source": [
    "pip install pdf_utils\n"
   ]
  },
  {
   "cell_type": "code",
   "execution_count": 38,
   "id": "a00accd2-5a83-4494-8bd2-e5a7348c30ce",
   "metadata": {},
   "outputs": [],
   "source": [
    "# pdf_utils.py\n",
    "\n",
    "from reportlab.lib.pagesizes import letter\n",
    "from reportlab.pdfgen import canvas\n",
    "from reportlab.lib.units import inch\n",
    "\n",
    "def crear_pdf_con_grafico(pdf_path, imagen_path):\n",
    "    c = canvas.Canvas(pdf_path, pagesize=letter)\n",
    "    width, height = letter\n",
    "\n",
    "    # Agregar el gráfico al PDF\n",
    "    c.drawImage(imagen_path, 1 * inch, height - 5 * inch, width=6 * inch, height=4 * inch)\n",
    "    c.drawString(1 * inch, height - 0.5 * inch, \"Gráfico de Precisión y Pérdida del Modelo\")\n",
    "    \n",
    "    c.save()"
   ]
  },
  {
   "cell_type": "code",
   "execution_count": null,
   "id": "90253916-19d9-4eec-aa25-1852cac00859",
   "metadata": {},
   "outputs": [],
   "source": [
    "import tensorflow as tf\n",
    "import numpy as np\n",
    "from sklearn.preprocessing import LabelEncoder, StandardScaler\n",
    "import matplotlib.pyplot as plt\n",
    "from tensorflow.keras.optimizers import Adam\n",
    "from pdf_utils import crear_pdf_con_grafico\n",
    "\n",
    "if len(array_dias) != len(array_meses) or len(array_dias) != len(array_signos):\n",
    "    raise ValueError(\"array_dias, array_meses y array_signos deben tener el mismo número de elementos.\")\n",
    "\n",
    "# Datos para entrenamiento\n",
    "X_train = np.column_stack((array_dias, array_meses))  # Características (por ejemplo, fechas de nacimiento)\n",
    "\n",
    "# Normalizar las características\n",
    "scaler = StandardScaler()\n",
    "X_train = scaler.fit_transform(X_train)\n",
    "\n",
    "label_encoder = LabelEncoder()\n",
    "y_train = label_encoder.fit_transform(array_signos)  # Etiquetas (0 = Aries, 1 = Tauro, etc.)\n",
    "\n",
    "# Verificar las dimensiones de X_train y y_train\n",
    "if X_train.shape[0] != y_train.shape[0]:\n",
    "    raise ValueError(\"El número de muestras en X_train y y_train debe ser el mismo.\")\n",
    "\n",
    "# Verificar el número de clases\n",
    "num_clases = len(np.unique(y_train))\n",
    "\n",
    "# Crear el modelo\n",
    "model = tf.keras.Sequential([\n",
    "    tf.keras.layers.Dense(64, activation='relu', input_shape=(X_train.shape[1],)),\n",
    "    tf.keras.layers.Dense(32, activation='relu'),\n",
    "    tf.keras.layers.Dense(num_clases, activation='softmax')  # Número de clases\n",
    "])\n",
    "\n",
    "# Compilar el modelo\n",
    "optimizer = Adam(learning_rate=0.001)\n",
    "model.compile(optimizer=optimizer,\n",
    "              loss='sparse_categorical_crossentropy',\n",
    "              metrics=['accuracy'])\n",
    "\n",
    "# Entrenar el modelo con validación\n",
    "try:\n",
    "    history = model.fit(X_train, y_train, epochs=10, validation_split=0.2)\n",
    "except Exception as e:\n",
    "    print(\"Error durante el entrenamiento:\", e)\n",
    "\n",
    "# Graficar la precisión y la pérdida\n",
    "plt.figure(figsize=(12, 6))\n",
    "\n",
    "# Gráfico de precisión\n",
    "plt.subplot(1, 2, 1)\n",
    "plt.plot(history.history['accuracy'], label='Entrenamiento')\n",
    "plt.plot(history.history['val_accuracy'], label='Validación')\n",
    "plt.title('Precisión del modelo')\n",
    "plt.xlabel('Época')\n",
    "plt.ylabel('Precisión')\n",
    "plt.legend()\n",
    "\n",
    "# Gráfico de pérdida\n",
    "plt.subplot(1, 2, 2)\n",
    "plt.plot(history.history['loss'], label='Entrenamiento')\n",
    "plt.plot(history.history['val_loss'], label='Validación')\n",
    "plt.title('Pérdida del modelo')\n",
    "plt.xlabel('Época')\n",
    "plt.ylabel('Pérdida')\n",
    "plt.legend()\n",
    "\n",
    "# Guardar gráficos como imágenes\n",
    "plt.tight_layout()\n",
    "plt.savefig('precision_y_perdida.png')  # Guarda en un archivo de imagen\n",
    "plt.close()\n",
    "\n",
    "# Crear PDF con el gráfico\n",
    "pdf_path = 'resultado_modelo.pdf'\n",
    "crear_pdf_con_grafico(pdf_path, 'precision_y_perdida.png')\n",
    "\n",
    "# Guardar el modelo\n",
    "modelSigno='C:/Users/floi_/Desktop/ING UTNG/GIDS4093-E/EXTRACCION BASE DATOS/UNIDAD 4/zodiaco/signo_model.keras'\n",
    "model.save(modelSigno)"
   ]
  },
  {
   "cell_type": "code",
   "execution_count": null,
   "id": "b32a17c6-2bb0-444a-9218-886079637d6b",
   "metadata": {},
   "outputs": [],
   "source": []
  },
  {
   "cell_type": "code",
   "execution_count": null,
   "id": "6ebfeafb-c18a-49a6-8fd0-59dcb94a4156",
   "metadata": {},
   "outputs": [],
   "source": []
  }
 ],
 "metadata": {
  "kernelspec": {
   "display_name": "Python 3 (ipykernel)",
   "language": "python",
   "name": "python3"
  },
  "language_info": {
   "codemirror_mode": {
    "name": "ipython",
    "version": 3
   },
   "file_extension": ".py",
   "mimetype": "text/x-python",
   "name": "python",
   "nbconvert_exporter": "python",
   "pygments_lexer": "ipython3",
   "version": "3.12.4"
  }
 },
 "nbformat": 4,
 "nbformat_minor": 5
}
